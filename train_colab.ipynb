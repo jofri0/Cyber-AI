{
 "cells": [
  {
   "cell_type": "markdown",
   "metadata": {},
   "source": [
    "# 🚀 Cyber-AI Training Notebook\n",
    "\n",
    "This notebook will train your AI model on **Google Colab GPU** using your repo files.\n",
    "\n",
    "**Steps:**\n",
    "1. Setup environment\n",
    "2. Clone repo\n",
    "3. Install requirements\n",
    "4. Run data prep\n",
    "5. Train model (`train_hf.py`)\n",
    "6. Save model to Drive/GitHub"
   ]
  },
  {
   "cell_type": "code",
   "execution_count": null,
   "metadata": {},
   "outputs": [],
   "source": [
    "# ✅ Step 1: Connect Google Drive (optional, skip if not needed)\n",
    "from google.colab import drive\n",
    "drive.mount('/content/drive')"
   ]
  },
  {
   "cell_type": "code",
   "execution_count": null,
   "metadata": {},
   "outputs": [],
   "source": [
    "# ✅ Step 2: Clone your repo\n",
    "!git clone https://github.com/jofri0/Cyber-AI.git\n",
    "%cd Cyber-AI"
   ]
  },
  {
   "cell_type": "code",
   "execution_count": null,
   "metadata": {},
   "outputs": [],
   "source": [
    "# ✅ Step 3: Install requirements\n",
    "!pip install -r requirements.txt\n",
    "!pip install accelerate transformers peft datasets bitsandbytes"
   ]
  },
  {
   "cell_type": "code",
   "execution_count": null,
   "metadata": {},
   "outputs": [],
   "source": [
    "# ✅ Step 4: Run Data Preparation\n",
    "!python data_prep.py"
   ]
  },
  {
   "cell_type": "code",
   "execution_count": null,
   "metadata": {},
   "outputs": [],
   "source": [
    "# ✅ Step 5: Train Model (LoRA / HuggingFace Trainer)\n",
    "!python train_hf.py --epochs 3 --batch_size 4 --save_dir ./outputs"
   ]
  },
  {
   "cell_type": "code",
   "execution_count": null,
   "metadata": {},
   "outputs": [],
   "source": [
    "# ✅ Step 6: Save model to Google Drive\n",
    "!cp -r ./outputs /content/drive/MyDrive/CyberAI_trained_model"
   ]
  },
  {
   "cell_type": "code",
   "execution_count": null,
   "metadata": {},
   "outputs": [],
   "source": [
    "# ✅ Optional: Push model back to GitHub\n",
    "!git config --global user.email \"you@example.com\"\n",
    "!git config --global user.name \"Your Name\"\n",
    "!git add outputs\n",
    "!git commit -m \"Add trained model\"\n",
    "!git push"
   ]
  }
 ],
 "metadata": {
  "kernelspec": {
   "display_name": "Python 3",
   "language": "python",
   "name": "python3"
  },
  "language_info": {
   "name": "python",
   "version": "3.10"
  }
 },
 "nbformat": 4,
 "nbformat_minor": 5
}